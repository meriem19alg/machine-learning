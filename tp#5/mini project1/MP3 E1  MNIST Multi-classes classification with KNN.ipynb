{
  "cells": [
    {
      "cell_type": "markdown",
      "metadata": {
        "id": "lOAOyfmIbAvM"
      },
      "source": [
        "**Exercice 1   — MNIST Multi-classes classification with KNN**"
      ]
    },
    {
      "cell_type": "markdown",
      "metadata": {
        "id": "0abH6yGla9CA"
      },
      "source": [
        "1-Pour charger les données du MNIST, vous pouvez utiliser la bibliothèque Scikit-Learn. Voici un exemple de code pour charger les données et les diviser en ensembles de formation et de test :"
      ]
    },
    {
      "cell_type": "code",
      "execution_count": 6,
      "metadata": {
        "colab": {
          "base_uri": "https://localhost:8080/"
        },
        "id": "f9QGzmWfXs4W",
        "outputId": "217ab7f5-791c-443c-aba5-7954c5ccc05d"
      },
      "outputs": [
        {
          "name": "stderr",
          "output_type": "stream",
          "text": [
            "/usr/local/lib/python3.9/dist-packages/sklearn/datasets/_openml.py:968: FutureWarning: The default value of `parser` will change from `'liac-arff'` to `'auto'` in 1.4. You can set `parser='auto'` to silence this warning. Therefore, an `ImportError` will be raised from 1.4 if the dataset is dense and pandas is not installed. Note that the pandas parser may return different data types. See the Notes Section in fetch_openml's API doc for details.\n",
            "  warn(\n"
          ]
        }
      ],
      "source": [
        "from sklearn.datasets import fetch_openml\n",
        "from sklearn.model_selection import train_test_split\n",
        "\n",
        "mnist = fetch_openml('mnist_784')\n",
        "X = mnist.data\n",
        "y = mnist.target\n",
        "\n",
        "X_train, X_test, y_train, y_test = train_test_split(X, y, test_size=0.2, random_state=42)\n"
      ]
    },
    {
      "cell_type": "markdown",
      "metadata": {
        "id": "Y_0IpAAZa2fK"
      },
      "source": [
        "2-Pour afficher les informations sur les données, vous pouvez utiliser les fonctions numpy pour déterminer la forme et la taille des tableaux d'images et d'étiquettes :"
      ]
    },
    {
      "cell_type": "code",
      "execution_count": 7,
      "metadata": {
        "colab": {
          "base_uri": "https://localhost:8080/"
        },
        "id": "nwM7HeKpZ3Sl",
        "outputId": "f9680a7c-edbe-4a84-97c4-5bf86b180c2a"
      },
      "outputs": [
        {
          "name": "stdout",
          "output_type": "stream",
          "text": [
            "Taille de X_train : (56000, 784)\n",
            "Taille de y_train : (56000,)\n",
            "Taille de X_test : (14000, 784)\n",
            "Taille de y_test : (14000,)\n"
          ]
        }
      ],
      "source": [
        "import numpy as np\n",
        "\n",
        "print(f\"Taille de X_train : {np.shape(X_train)}\")\n",
        "print(f\"Taille de y_train : {np.shape(y_train)}\")\n",
        "print(f\"Taille de X_test : {np.shape(X_test)}\")\n",
        "print(f\"Taille de y_test : {np.shape(y_test)}\")\n"
      ]
    },
    {
      "cell_type": "markdown",
      "metadata": {
        "id": "xKet6I6Uavta"
      },
      "source": [
        "3-Pour créer un modèle de classification basé sur les KNN, vous pouvez utiliser la classe KNeighborsClassifier de Scikit-Learn. Vous pouvez tester différentes valeurs de k pour déterminer la valeur optimale. Voici un exemple de code :"
      ]
    },
    {
      "cell_type": "code",
      "execution_count": 8,
      "metadata": {
        "colab": {
          "base_uri": "https://localhost:8080/"
        },
        "id": "ehH97rOJZ7Zo",
        "outputId": "05b18977-aacd-41f1-8532-72b6c913d9b6"
      },
      "outputs": [
        {
          "name": "stdout",
          "output_type": "stream",
          "text": [
            "Score pour k=1 : 0.972\n",
            "Score pour k=5 : 0.9700714285714286\n",
            "Score pour k=10 : 0.9657857142857142\n",
            "Score pour k=15 : 0.9638571428571429\n",
            "Score pour k=20 : 0.9615\n"
          ]
        }
      ],
      "source": [
        "from sklearn.neighbors import KNeighborsClassifier\n",
        "\n",
        "k_values = [1, 5, 10, 15, 20]\n",
        "\n",
        "for k in k_values:\n",
        "    knn = KNeighborsClassifier(n_neighbors=k)\n",
        "    knn.fit(X_train, y_train)\n",
        "    score = knn.score(X_test, y_test)\n",
        "    print(f\"Score pour k={k} : {score}\")\n"
      ]
    },
    {
      "cell_type": "markdown",
      "metadata": {
        "id": "eMN6xeQKarFe"
      },
      "source": [
        "4-Pour comparer le modèle KNN avec d'autres modèles de classification, tels que la régression logistique et les arbres de décision, vous pouvez également utiliser des classes similaires de Scikit-Learn : LogisticRegression et DecisionTreeClassifier. Voici un exemple de code pour comparer les trois modèles "
      ]
    },
    {
      "cell_type": "code",
      "execution_count": 9,
      "metadata": {
        "colab": {
          "base_uri": "https://localhost:8080/"
        },
        "id": "3hPDcyq6aJL9",
        "outputId": "fcf8ffef-efda-4330-c301-5965d63a1403"
      },
      "outputs": [
        {
          "name": "stdout",
          "output_type": "stream",
          "text": [
            "Score pour KNN : 0.9700714285714286\n"
          ]
        },
        {
          "name": "stderr",
          "output_type": "stream",
          "text": [
            "/usr/local/lib/python3.9/dist-packages/sklearn/linear_model/_logistic.py:458: ConvergenceWarning: lbfgs failed to converge (status=1):\n",
            "STOP: TOTAL NO. of ITERATIONS REACHED LIMIT.\n",
            "\n",
            "Increase the number of iterations (max_iter) or scale the data as shown in:\n",
            "    https://scikit-learn.org/stable/modules/preprocessing.html\n",
            "Please also refer to the documentation for alternative solver options:\n",
            "    https://scikit-learn.org/stable/modules/linear_model.html#logistic-regression\n",
            "  n_iter_i = _check_optimize_result(\n"
          ]
        },
        {
          "name": "stdout",
          "output_type": "stream",
          "text": [
            "Score pour Logistic Regression : 0.9178571428571428\n",
            "Score pour Decision Tree : 0.8707857142857143\n"
          ]
        }
      ],
      "source": [
        "from sklearn.linear_model import LogisticRegression\n",
        "from sklearn.tree import DecisionTreeClassifier\n",
        "\n",
        "models = {'KNN': KNeighborsClassifier(), \n",
        "          'Logistic Regression': LogisticRegression(), \n",
        "          'Decision Tree': DecisionTreeClassifier()}\n",
        "\n",
        "for name, model in models.items():\n",
        "    model.fit(X_train, y_train)\n",
        "    score = model.score(X_test, y_test)\n",
        "    print(f\"Score pour {name} : {score}\")\n"
      ]
    },
    {
      "cell_type": "markdown",
      "metadata": {
        "id": "-HvMf4CMam-a"
      },
      "source": [
        "5-Pour visualiser les résultats comparatifs graphiquement, vous pouvez utiliser la bibliothèque Matplotlib. Voici un exemple de code pour tracer un graphique à barres montrant les scores de chaque modèle :"
      ]
    },
    {
      "cell_type": "code",
      "execution_count": 11,
      "metadata": {
        "colab": {
          "base_uri": "https://localhost:8080/",
          "height": 592
        },
        "id": "o-p-xzqsaLzV",
        "outputId": "37bd68da-f6e5-4713-91bd-7ddf04783db8"
      },
      "outputs": [
        {
          "name": "stderr",
          "output_type": "stream",
          "text": [
            "/usr/local/lib/python3.9/dist-packages/sklearn/linear_model/_logistic.py:458: ConvergenceWarning: lbfgs failed to converge (status=1):\n",
            "STOP: TOTAL NO. of ITERATIONS REACHED LIMIT.\n",
            "\n",
            "Increase the number of iterations (max_iter) or scale the data as shown in:\n",
            "    https://scikit-learn.org/stable/modules/preprocessing.html\n",
            "Please also refer to the documentation for alternative solver options:\n",
            "    https://scikit-learn.org/stable/modules/linear_model.html#logistic-regression\n",
            "  n_iter_i = _check_optimize_result(\n"
          ]
        },
        {
          "data": {
            "image/png": "[encoded data removed]",
            "text/plain": [
              "<Figure size 640x480 with 1 Axes>"
            ]
          },
          "metadata": {},
          "output_type": "display_data"
        }
      ],
      "source": [
        "import matplotlib.pyplot as plt\n",
        "# Comparaison des modèles\n",
        "knn = KNeighborsClassifier(n_neighbors=5)\n",
        "knn.fit(X_train, y_train)\n",
        "score_knn = knn.score(X_test, y_test)\n",
        "\n",
        "logreg = LogisticRegression()\n",
        "logreg.fit(X_train, y_train)\n",
        "score_logreg = logreg.score(X_test, y_test)\n",
        "\n",
        "tree = DecisionTreeClassifier()\n",
        "tree.fit(X_train, y_train)\n",
        "score_tree = tree.score(X_test, y_test)\n",
        "\n",
        "# Visualisation des résultats\n",
        "scores = [score_knn, score_logreg, score_tree]\n",
        "models_names = ['KNN', 'Logistic Regression', 'Decision Tree']\n",
        "\n",
        "plt.bar(models_names, scores)\n",
        "plt.ylabel('Score')\n",
        "plt.title('Comparaison des modèles')\n",
        "plt.show()\n",
        "\n"
      ]
    },
    {
      "cell_type": "markdown",
      "metadata": {
        "id": "wupayiHraiER"
      },
      "source": [
        "6-En conclusion, nous avons utilisé l'algorithme KNN pour classer les chiffres décimaux de la base de données MNIST, et avons comparé les résultats avec ceux obtenus avec la régression logistique et les arbres de décision. Nous avons constaté que le modèle KNN avec k=5 a donné le meilleur score de classification. Toutefois, il est important de noter que les performances des différents modèles peuvent varier en fonction des paramètres utilisés et des données d'entrée."
      ]
    }
  ],
  "metadata": {
    "colab": {
      "provenance": []
    },
    "kernelspec": {
      "display_name": "Python 3",
      "name": "python3"
    },
    "language_info": {
      "name": "python",
      "version": "3.10.6"
    }
  },
  "nbformat": 4,
  "nbformat_minor": 0
}
